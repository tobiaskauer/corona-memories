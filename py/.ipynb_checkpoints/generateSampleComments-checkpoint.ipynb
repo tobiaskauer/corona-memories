{
 "cells": [
  {
   "cell_type": "code",
   "execution_count": null,
   "metadata": {},
   "outputs": [],
   "source": [
    "import pandas as pd\n",
    "import sqlite3\n",
    "import sqlalchemy\n",
    "import random\n",
    "from datetime import timedelta\n",
    "import numpy as np"
   ]
  },
  {
   "cell_type": "code",
   "execution_count": null,
   "metadata": {},
   "outputs": [],
   "source": [
    "reactions = pd.read_csv('sampleReactions.csv', sep=\"\\t\")  \n",
    "reactions"
   ]
  },
  {
   "cell_type": "code",
   "execution_count": null,
   "metadata": {},
   "outputs": [],
   "source": [
    "df = pd.read_json(\"./sampleComments.json\")\n",
    "df['id'] = df.index\n",
    "df = df.drop(['value'], axis=1)\n",
    "df['date'] = pd.to_datetime(df['date'], format='%Y/%m/%d')\n",
    "df['date'] = df['date'].dt.date\n",
    "df['enddate'] = df['date']\n",
    "df['createdAt'] = pd.to_datetime('today').normalize()\n",
    "df['updatedAt'] = pd.to_datetime('today').normalize()\n",
    "\n",
    "#df.drop(df[df.country != \"Germany\"].index, inplace=True)\n",
    "\n",
    "for (i, row) in enumerate(df.iterrows()):\n",
    "    reaction = reactions.sample()\n",
    "    df.loc[i, 'comment'] = reaction['comment'].values[0]\n",
    "    df.loc[i, 'comment'] = reaction['author'].values[0]\n",
    "    if (i % 3) is 0:\n",
    "        newDate = row[1].date + timedelta(days=random.randint(5,20))\n",
    "        df.loc[i, 'enddate'] = newDate\n",
    "\n",
    "\n",
    "df"
   ]
  },
  {
   "cell_type": "code",
   "execution_count": null,
   "metadata": {},
   "outputs": [],
   "source": [
    "sqlite = sqlite3.connect(\"../server/coronaMemories.sqlite\")\n",
    "df.to_sql(con=sqlite, index=False, name='memories', if_exists='replace')"
   ]
  },
  {
   "cell_type": "code",
   "execution_count": null,
   "metadata": {},
   "outputs": [],
   "source": []
  }
 ],
 "metadata": {
  "kernelspec": {
   "display_name": "Python 3",
   "language": "python",
   "name": "python3"
  },
  "language_info": {
   "codemirror_mode": {
    "name": "ipython",
    "version": 3
   },
   "file_extension": ".py",
   "mimetype": "text/x-python",
   "name": "python",
   "nbconvert_exporter": "python",
   "pygments_lexer": "ipython3",
   "version": "3.7.3"
  }
 },
 "nbformat": 4,
 "nbformat_minor": 4
}
