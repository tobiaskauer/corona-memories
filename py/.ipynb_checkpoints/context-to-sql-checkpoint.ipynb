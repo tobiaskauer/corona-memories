{
 "cells": [
  {
   "cell_type": "code",
   "execution_count": null,
   "metadata": {},
   "outputs": [],
   "source": [
    "import requests\n",
    "import math\n",
    "import pandas as pd\n",
    "\n",
    "import sqlite3\n",
    "import sqlalchemy"
   ]
  },
  {
   "cell_type": "code",
   "execution_count": null,
   "metadata": {},
   "outputs": [],
   "source": [
    "countries = requests.get('https://disease.sh/v3/covid-19/historical?lastdays=all')\n",
    "world = requests.get('https://disease.sh/v3/covid-19/historical/all?lastdays=all')\n",
    "pop = pd.read_csv(\"./population.csv\",skiprows=4, index_col=\"Country Name\")"
   ]
  },
  {
   "cell_type": "code",
   "execution_count": null,
   "metadata": {
    "scrolled": false
   },
   "outputs": [],
   "source": [
    "worldObj = {\n",
    "    'country': 'Global'\n",
    "}\n",
    "\n",
    "\n",
    "demo = [{'country': 'foo'}, {'country': 'bar'}]\n",
    "demo.append(worldObj)\n",
    "\n",
    "\n",
    "countries.json().append(worldObj)\n",
    "\n",
    "for i,element in enumerate(countries.json()):\n",
    "    print(element['country'])"
   ]
  },
  {
   "cell_type": "code",
   "execution_count": null,
   "metadata": {},
   "outputs": [],
   "source": [
    "all_list = []\n",
    "\n",
    "for i,country in enumerate(countries.json()):\n",
    "    country_df = pd.DataFrame\n",
    "    if True and country['country'] in pop.index and not country['province']: #if we have population info for the country\n",
    "        population =  pop.loc[country['country']]['2019']\n",
    "        if not math.isnan(population):\n",
    "            cases = country['timeline']['cases'] #turn cumulative cases from dataset into list for later iteration\n",
    "            arr = []\n",
    "            for date in cases.keys():\n",
    "                newDate = \"\"\n",
    "                for j,e in enumerate(date.split(\"/\")):\n",
    "                    if j < 2: #for first two parts of date (month, day)\n",
    "                        if len(e) < 2:\n",
    "                            newDate = newDate + \"0\"\n",
    "                        newDate = newDate + e + \"/\"\n",
    "                    if j is 2:\n",
    "                        newDate = newDate + \"20\" + e\n",
    "                obj = {'date': newDate, 'cumulative': cases[date]}\n",
    "                arr.append(obj)\n",
    "\n",
    "            for j,e in enumerate(arr): #compute new cases \n",
    "                if j > 0:\n",
    "                    yesterdayCases = arr[j-1]['cumulative']\n",
    "                else:\n",
    "                    yesterdayCases = 0\n",
    "                e['new'] = e['cumulative'] - yesterdayCases\n",
    "                    \n",
    "                sevenDaySum = 0\n",
    "                daysBack = 7\n",
    "                while daysBack > 0:\n",
    "                    if(j >= daysBack):\n",
    "                        sevenDaySum = sevenDaySum +  arr[j-daysBack]['new']\n",
    "                    daysBack = daysBack-1\n",
    "                e['relative'] = math.floor(sevenDaySum / population * 100000)\n",
    "                e['country'] = country['country']\n",
    "                \n",
    "                all_list.append(e)\n",
    "            #all_df.append(country_df)\n",
    " \n",
    "all_df = pd.DataFrame(all_list)\n",
    "all_df['date'] = pd.to_datetime(all_df['date'], format='%m/%d/%Y')\n",
    "all_df['date'] = all_df['date'].dt.date\n",
    "all_df['id'] = all_df.index\n",
    "all_df['createdAt'] = pd.to_datetime('today').normalize()\n",
    "all_df['updatedAt'] = pd.to_datetime('today').normalize()\n",
    "\n",
    "all_df"
   ]
  },
  {
   "cell_type": "code",
   "execution_count": null,
   "metadata": {},
   "outputs": [],
   "source": [
    "#SQLTE\n",
    "sqlite = sqlite3.connect(\"../server/coronaMemories.sqlite\")\n",
    "\n",
    "all_df.to_sql(con=sqlite, index=False, name='cases', if_exists='replace',dtype={\"date\": str(sqlalchemy.types.DateTime())})"
   ]
  },
  {
   "cell_type": "code",
   "execution_count": null,
   "metadata": {},
   "outputs": [],
   "source": [
    "#MYSQL\n",
    "host = \"tobiaskauer.org\"\n",
    "user = \"d03561e2\"\n",
    "password = \"\"\n",
    "database = \"d03561e2\"\n",
    "\n",
    "engine = sqlalchemy.create_engine('mysql+mysqlconnector://'+user+':'+password+'@'+host+'/'+database)\n",
    "\n",
    "#write new database to db\n",
    "#OVERWRITES EXISTING TABLES\n",
    "\n"
   ]
  },
  {
   "cell_type": "code",
   "execution_count": null,
   "metadata": {},
   "outputs": [],
   "source": []
  },
  {
   "cell_type": "code",
   "execution_count": null,
   "metadata": {},
   "outputs": [],
   "source": []
  }
 ],
 "metadata": {
  "kernelspec": {
   "display_name": "Python 3",
   "language": "python",
   "name": "python3"
  },
  "language_info": {
   "codemirror_mode": {
    "name": "ipython",
    "version": 3
   },
   "file_extension": ".py",
   "mimetype": "text/x-python",
   "name": "python",
   "nbconvert_exporter": "python",
   "pygments_lexer": "ipython3",
   "version": "3.9.5"
  }
 },
 "nbformat": 4,
 "nbformat_minor": 4
}
