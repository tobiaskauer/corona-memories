{
 "cells": [
  {
   "cell_type": "code",
   "execution_count": null,
   "metadata": {},
   "outputs": [],
   "source": [
    "import requests\n",
    "import json\n",
    "import math\n",
    "import pandas as pd\n",
    "from collections import OrderedDict "
   ]
  },
  {
   "cell_type": "code",
   "execution_count": null,
   "metadata": {},
   "outputs": [],
   "source": [
    "response = requests.get('https://disease.sh/v3/covid-19/historical?lastdays=all')\n",
    "pop = pd.read_csv(\"./population.csv\",skiprows=4, index_col=\"Country Name\")\n",
    "countries = ['Germany','Afgahnistan','Belgium','Italy','UK','USA']"
   ]
  },
  {
   "cell_type": "code",
   "execution_count": null,
   "metadata": {},
   "outputs": [],
   "source": [
    "string = \"country,date,cumulative,new,relative\\n\"\n",
    "jsonObj = response.json()\n",
    "for i,country in enumerate(jsonObj):\n",
    "    if country['country'] in pop.index and country['country'] in countries and not country['province']: #if we have population info for the country\n",
    "        population =  pop.loc[country['country']]['2019']\n",
    "        if not math.isnan(population):\n",
    "            cases = country['timeline']['cases'] #turn cumulative cases from dataset into list for later iteration\n",
    "            arr = []\n",
    "            for date in cases.keys():\n",
    "                obj = {'date': date, 'cumulative': cases[date]}\n",
    "                arr.append(obj)\n",
    "\n",
    "            for j,e in enumerate(arr): #compute new cases \n",
    "                if j > 0:\n",
    "                    yesterdayCases = arr[j-1]['cumulative']\n",
    "                else:\n",
    "                    yesterdayCases = 0\n",
    "                e['new'] = e['cumulative'] - yesterdayCases\n",
    "                    \n",
    "                sevenDaySum = 0\n",
    "                daysBack = 7\n",
    "                while daysBack > 0:\n",
    "                    if(j >= daysBack):\n",
    "                        sevenDaySum = sevenDaySum +  arr[j-daysBack]['new']\n",
    "                    daysBack = daysBack-1\n",
    "    \n",
    "                e['relative'] = math.floor(sevenDaySum / population * 100000)\n",
    "        \n",
    "                if country['province']:\n",
    "                    province = \"-\"+country['province']\n",
    "                else:\n",
    "                    province = \"\"\n",
    "                if True:\n",
    "                    string = string + country['country']+ province + \",\"\n",
    "                    string = string + e['date'] + \",\"\n",
    "                    string = string + str(e['cumulative']) + \",\"\n",
    "                    string = string + str(e['new']) + \",\"\n",
    "                    string = string + str(e['relative'])\n",
    "                    string = string + \"\\n\"\n",
    "\n",
    "            country['cases'] = arr\n",
    "            del country['timeline']\n",
    "        else:\n",
    "            del country\n",
    "    else:\n",
    "        del country\n",
    "        \n",
    "print(string)"
   ]
  },
  {
   "cell_type": "code",
   "execution_count": null,
   "metadata": {},
   "outputs": [],
   "source": [
    "                "
   ]
  },
  {
   "cell_type": "markdown",
   "metadata": {},
   "source": [
    "jsonObj"
   ]
  },
  {
   "cell_type": "code",
   "execution_count": null,
   "metadata": {},
   "outputs": [],
   "source": [
    "cases = [0,1,2,3,4,5,6,7,8,9]\n",
    "\n",
    "\n",
    "for i, case in enumerate(cases):\n",
    "    sum = 0\n",
    "    \n",
    "    j=3\n",
    "    while j > 0:\n",
    "        if(i>j):\n",
    "            print(cases[i-j])\n",
    "            sum = sum + cases[i-j]\n",
    "        j = j-1\n",
    "    print(\"-->\"+str(sum))"
   ]
  },
  {
   "cell_type": "code",
   "execution_count": null,
   "metadata": {},
   "outputs": [],
   "source": [
    "with open('../src/assets/data.json', 'w', encoding='utf-8') as f:    \n",
    "    json.dump(jsonObj, f, ensure_ascii=False, indent=4)"
   ]
  },
  {
   "cell_type": "code",
   "execution_count": null,
   "metadata": {},
   "outputs": [],
   "source": [
    "#ARCHIVE\n",
    "\n",
    "jsonObj = response.json()\n",
    "for i,item in enumerate(jsonObj):\n",
    "    if item['country'] in pop.index:\n",
    "        incidence = {}\n",
    "        countryPop = pop.loc[item['country']]['2019']\n",
    "        item['population'] = countryPopt\n",
    "        for j, key in enumerate(item['timeline']['cases'].keys()):\n",
    "            newCases = item['timeline']['cases']\n",
    "            if i<1 and j < 10:\n",
    "                print(j)\n",
    "            \n",
    "            absoluteCases = item['timeline']['cases'][key]\n",
    "            relativeCases = item['timeline']['cases'][key]\n",
    "            incidence[j] = {'date': key, 'incidence': relativeCases}\n",
    "       \n",
    "        item['incidence'] = incidence\n",
    "        del item['timeline']\n",
    "    else:\n",
    "        del item\n",
    "    "
   ]
  },
  {
   "cell_type": "code",
   "execution_count": null,
   "metadata": {},
   "outputs": [],
   "source": []
  }
 ],
 "metadata": {
  "kernelspec": {
   "display_name": "Python 3",
   "language": "python",
   "name": "python3"
  },
  "language_info": {
   "codemirror_mode": {
    "name": "ipython",
    "version": 3
   },
   "file_extension": ".py",
   "mimetype": "text/x-python",
   "name": "python",
   "nbconvert_exporter": "python",
   "pygments_lexer": "ipython3",
   "version": "3.7.3"
  }
 },
 "nbformat": 4,
 "nbformat_minor": 4
}
