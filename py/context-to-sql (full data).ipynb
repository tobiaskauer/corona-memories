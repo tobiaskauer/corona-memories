{
 "cells": [
  {
   "cell_type": "code",
   "execution_count": 1,
   "metadata": {},
   "outputs": [],
   "source": [
    "import pandas as pd\n",
    "import sqlite3\n",
    "import numpy as np\n",
    "import sqlalchemy"
   ]
  },
  {
   "cell_type": "code",
   "execution_count": 28,
   "metadata": {},
   "outputs": [
    {
     "name": "stderr",
     "output_type": "stream",
     "text": [
      "/usr/local/lib/python3.9/site-packages/pandas/core/frame.py:3602: SettingWithCopyWarning: \n",
      "A value is trying to be set on a copy of a slice from a DataFrame.\n",
      "Try using .loc[row_indexer,col_indexer] = value instead\n",
      "\n",
      "See the caveats in the documentation: https://pandas.pydata.org/pandas-docs/stable/user_guide/indexing.html#returning-a-view-versus-a-copy\n",
      "  self._set_item(key, value)\n"
     ]
    }
   ],
   "source": [
    "#source: https://www.nature.com/articles/s41562-020-0909-7\n",
    "\n",
    "#filter low level changes and duplicate descriptions\n",
    "context= pd.read_csv(\"./coronanet_release_allvars.csv\", low_memory=False)\n",
    "context = context[context['entry_type']!=\"update\"]\n",
    "context = context[context['correct_type']!=\"correction\"]\n",
    "context = context[context['init_country_level']==\"National\"] #ignore regional\n",
    "context = context[~context['country'].str.contains(\",\")] #ignore measures implemented by multiple countries at once\n",
    "\n",
    "\n",
    "context.drop_duplicates(subset =\"description\", keep = False, inplace = True)\n",
    "\n",
    "#drop not needed cols\n",
    "context = context.drop(['record_id', 'policy_id', 'date_end', 'date_announced', 'enforcer', 'dist_index_high_est', 'dist_index_med_est', 'dist_index_low_est', 'dist_index_country_rank', 'institution_status', 'target_country', 'target_geog_level', 'target_region', 'target_province', 'target_city', 'target_other', 'target_who_what', 'target_direction', 'link', 'date_updated', 'recorded_date', 'Rank_FP', 'Score_FP', 'muni_IDC', 'dispersive_IDC', 'constraining_IDC', 'sfi_SFI', 'ti_cpi_TI', 'pop_WDI_PW', 'gdp_WDI_PW', 'growth_WDI_PW', 'lnpop_WDI_PW', 'lngdp_WDI_PW', 'disap_FA', 'polpris_FA', 'latentmean_FA', 'transparencyindex_HR', 'EmigrantStock_EMS', 'type_sub_cat'], axis = 1)\n",
    "context = context.drop(['tests_units', 'total_vaccinations', 'daily_vaccinations', 'total_vaccinations_per_hundred', 'daily_vaccinations_per_million','confirmed_cases', 'deaths', 'recovered', 'new_tests', 'total_tests', 'total_tests_per_thousand'], axis = 1)\n",
    "context = context.drop(['province', 'ISO_L2','ISO_A3','ISO_A2', 'city'], axis = 1)\n",
    "context = context.drop(['update_level', 'correct_type', 'travel_mechanism', 'compliance', 'entry_type', 'update_type', 'type_text', 'init_country_level', 'domestic_policy'], axis = 1)\n",
    "\n",
    "\n",
    "#bring to shape (similar to memories)\n",
    "context = context.rename(columns={\"date_start\": \"date\", \"type\": \"category\", \"description\": \"comment\"})\n",
    "context['date'] = pd.to_datetime(context['date'], format='%Y/%m/%d')\n",
    "context['date'] = context['date'].dt.date\n",
    "context[\"weight\"] = 8\n",
    "\n",
    "#remove \"other\" from hashtags\n",
    "context.loc[context[\"category\"].str.contains(\"Other\")][\"category\"] = np.NaN\n",
    "\n",
    "#remove data that are too early\n",
    "context = context[context['date'] > np.datetime64('2020-01-20')]"
   ]
  },
  {
   "cell_type": "code",
   "execution_count": 33,
   "metadata": {},
   "outputs": [],
   "source": [
    "#SQLTE\n",
    "sqlite = sqlite3.connect(\"../server/coronaMemories.sqlite\")\n",
    "context.to_sql(con=sqlite, name='contexts', index=True, if_exists='replace',dtype={\"date\": str(sqlalchemy.types.DateTime())})"
   ]
  },
  {
   "cell_type": "code",
   "execution_count": 32,
   "metadata": {},
   "outputs": [],
   "source": [
    "\n",
    "\n",
    "context['category'] = context['category'].replace({'Other Policy Not Listed Above': ''})\n",
    "\n",
    "#context.loc[context[\"category\"].str.contains(\"Other\")]"
   ]
  },
  {
   "cell_type": "code",
   "execution_count": null,
   "metadata": {},
   "outputs": [],
   "source": []
  }
 ],
 "metadata": {
  "kernelspec": {
   "display_name": "Python 3",
   "language": "python",
   "name": "python3"
  },
  "language_info": {
   "codemirror_mode": {
    "name": "ipython",
    "version": 3
   },
   "file_extension": ".py",
   "mimetype": "text/x-python",
   "name": "python",
   "nbconvert_exporter": "python",
   "pygments_lexer": "ipython3",
   "version": "3.9.5"
  }
 },
 "nbformat": 4,
 "nbformat_minor": 4
}
